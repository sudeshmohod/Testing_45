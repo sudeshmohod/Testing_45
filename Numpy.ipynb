{
 "cells": [
  {
   "cell_type": "code",
   "execution_count": 1,
   "id": "e72518ea",
   "metadata": {
    "scrolled": true
   },
   "outputs": [
    {
     "name": "stdout",
     "output_type": "stream",
     "text": [
      "Requirement already satisfied: numpy in c:\\users\\admin\\appdata\\roaming\\python\\python38\\site-packages (1.24.3)\n",
      "Note: you may need to restart the kernel to use updated packages.\n"
     ]
    },
    {
     "name": "stderr",
     "output_type": "stream",
     "text": [
      "\n",
      "[notice] A new release of pip available: 22.2.2 -> 23.1.2\n",
      "[notice] To update, run: python.exe -m pip install --upgrade pip\n"
     ]
    }
   ],
   "source": [
    "pip install numpy"
   ]
  },
  {
   "cell_type": "code",
   "execution_count": 2,
   "id": "b2b0034c",
   "metadata": {},
   "outputs": [
    {
     "name": "stdout",
     "output_type": "stream",
     "text": [
      "1.24.3\n"
     ]
    }
   ],
   "source": [
    "import numpy as np #alias shortform\n",
    "print(np.__version__)"
   ]
  },
  {
   "cell_type": "code",
   "execution_count": 3,
   "id": "ccf5e399",
   "metadata": {},
   "outputs": [
    {
     "name": "stdout",
     "output_type": "stream",
     "text": [
      "hello welcome in jupyter notebook\n"
     ]
    }
   ],
   "source": [
    "print(\"hello welcome in jupyter notebook\")"
   ]
  },
  {
   "cell_type": "code",
   "execution_count": 4,
   "id": "772fda57",
   "metadata": {},
   "outputs": [
    {
     "name": "stdout",
     "output_type": "stream",
     "text": [
      "<class 'numpy.ndarray'>\n",
      "[1 2 3 4 5]\n"
     ]
    }
   ],
   "source": [
    "import numpy\n",
    "arr = numpy.array([1,2,3,4,5])\n",
    "print(type(arr)) # datatype \n",
    "print(arr)"
   ]
  },
  {
   "cell_type": "code",
   "execution_count": 7,
   "id": "da823693",
   "metadata": {},
   "outputs": [
    {
     "name": "stdout",
     "output_type": "stream",
     "text": [
      "<class 'tuple'>\n",
      "<class 'numpy.ndarray'>\n",
      "[1 2 3 4 5]\n"
     ]
    }
   ],
   "source": [
    "import numpy\n",
    "tup = (1,2,3,4,5)\n",
    "print(type(tup))\n",
    "    \n",
    "arr = numpy.array(tup)\n",
    "print(type(tup))\n",
    "print(type(arr)) # datatype \n",
    "print(arr)"
   ]
  },
  {
   "cell_type": "code",
   "execution_count": 1,
   "id": "0234bd6a",
   "metadata": {},
   "outputs": [
    {
     "name": "stdout",
     "output_type": "stream",
     "text": [
      "<class 'numpy.ndarray'>\n",
      "[1 2 3 4 5]\n"
     ]
    }
   ],
   "source": [
    "import numpy\n",
    "lis = [1,2,3,4,5]\n",
    "arr = numpy.array(lis)\n",
    "print(type(arr))\n",
    "print(arr)"
   ]
  },
  {
   "cell_type": "code",
   "execution_count": 2,
   "id": "8a21923e",
   "metadata": {},
   "outputs": [],
   "source": [
    "lis = [10, 'ab', \"python\", 12.4] #update the lis element..."
   ]
  },
  {
   "cell_type": "code",
   "execution_count": null,
   "id": "b0df0e2f",
   "metadata": {},
   "outputs": [],
   "source": [
    "tup = (10, 'ab', 'python', 12.4)"
   ]
  },
  {
   "cell_type": "code",
   "execution_count": 4,
   "id": "86e0724b",
   "metadata": {},
   "outputs": [
    {
     "name": "stdout",
     "output_type": "stream",
     "text": [
      "<class 'numpy.ndarray'>\n",
      "5\n",
      "0\n"
     ]
    }
   ],
   "source": [
    "#zero dimentioanl\n",
    "import numpy\n",
    "arr = numpy.array(5)\n",
    "print(type(arr))\n",
    "print(arr)\n",
    "print(arr.ndim)"
   ]
  },
  {
   "cell_type": "code",
   "execution_count": 6,
   "id": "7fca46b8",
   "metadata": {},
   "outputs": [
    {
     "name": "stdout",
     "output_type": "stream",
     "text": [
      "[10 20 30 40]\n",
      "1\n"
     ]
    }
   ],
   "source": [
    "#one-dimentaional..\n",
    "import numpy\n",
    "arr = numpy.array([10,20,30,40])\n",
    "print(arr)\n",
    "print(arr.ndim)"
   ]
  },
  {
   "cell_type": "code",
   "execution_count": 15,
   "id": "38a0bb79",
   "metadata": {
    "scrolled": true
   },
   "outputs": [
    {
     "name": "stdout",
     "output_type": "stream",
     "text": [
      "[[ 1  2  3  4  5]\n",
      " [10 20 30 40 50]]\n",
      "dimention of array 2\n",
      "shape of array (2, 5)\n",
      "size of array 10\n"
     ]
    }
   ],
   "source": [
    "import numpy\n",
    "arr = numpy.array([[1,2,3,4,5],[10,20,30,40,50]])\n",
    "print(arr)\n",
    "print(\"dimention of array\", arr.ndim)\n",
    "print(\"shape of array\",arr.shape)\n",
    "print(\"size of array\", arr.size)"
   ]
  },
  {
   "cell_type": "code",
   "execution_count": null,
   "id": "241df769",
   "metadata": {},
   "outputs": [],
   "source": [
    "2 by 5 ---- two by five..."
   ]
  },
  {
   "cell_type": "code",
   "execution_count": 16,
   "id": "3f994912",
   "metadata": {},
   "outputs": [
    {
     "name": "stdout",
     "output_type": "stream",
     "text": [
      "42\n",
      "[1 2 3 4 5]\n",
      "[[1 2 3]\n",
      " [4 5 6]]\n"
     ]
    }
   ],
   "source": [
    "import numpy as np\n",
    "a = np.array(42) #zero-dim\n",
    "b = np.array([1, 2, 3, 4, 5]) #one-dim\n",
    "c = np.array([[1, 2, 3], [4, 5, 6]]) #two-dim\n",
    "print(a)\n",
    "print(b)\n",
    "print(c)"
   ]
  },
  {
   "cell_type": "code",
   "execution_count": 25,
   "id": "c54ca32c",
   "metadata": {},
   "outputs": [
    {
     "name": "stdout",
     "output_type": "stream",
     "text": [
      "[10 20 35]\n"
     ]
    }
   ],
   "source": [
    "import numpy as np\n",
    "\n",
    "arr = np.array([10, 20, 35, 40])\n",
    "\n",
    "print(arr[0:3])\n",
    "#index position\n",
    "#index position + addition\n",
    "# slicing..."
   ]
  },
  {
   "cell_type": "code",
   "execution_count": 12,
   "id": "c229787a",
   "metadata": {},
   "outputs": [
    {
     "name": "stdout",
     "output_type": "stream",
     "text": [
      "[[ 1  2  3  4  5]\n",
      " [ 6  7  8  9 10]]\n",
      "element is:  10\n"
     ]
    }
   ],
   "source": [
    "import numpy as np\n",
    "\n",
    "arr = np.array([[1,2,3,4,5], [6,7,8,9,10]])\n",
    "print(arr)\n",
    "print('element is: ', arr[1, 4]) #arr[row, col]"
   ]
  },
  {
   "cell_type": "code",
   "execution_count": 17,
   "id": "7b745070",
   "metadata": {},
   "outputs": [
    {
     "name": "stdout",
     "output_type": "stream",
     "text": [
      "[[ 1  2  3  4  5]\n",
      " [ 6  7  8  9 10]\n",
      " [11 12 13 14 15]]\n",
      "value:--------  1\n",
      "value:--------  2\n",
      "value:--------  3\n",
      "value:--------  4\n",
      "value:--------  5\n",
      "2\n",
      "(3, 5)\n"
     ]
    }
   ],
   "source": [
    "import numpy as np\n",
    "\n",
    "arr = np.array([  [1,2,3,4,5], [6,7,8,9,10],[11,12,13,14,15]   ])\n",
    "print(arr)\n",
    "print('value:-------- ', arr[0, 0]) # 0 is row...& 1 column...\n",
    "print('value:-------- ', arr[0, 1])\n",
    "print('value:-------- ', arr[0, 2])\n",
    "print('value:-------- ', arr[0, 3])\n",
    "print('value:-------- ', arr[0, 4])\n",
    "print(arr.ndim)\n",
    "print(arr.shape)"
   ]
  },
  {
   "cell_type": "code",
   "execution_count": 25,
   "id": "33105a13",
   "metadata": {},
   "outputs": [
    {
     "name": "stdout",
     "output_type": "stream",
     "text": [
      "[[ 1  2  3  4  5]\n",
      " [ 6  7  8  9 10]]\n",
      "[7 8 9]\n"
     ]
    }
   ],
   "source": [
    "# two dim array\n",
    "import numpy as np\n",
    "\n",
    "arr = np.array([[1, 2, 3, 4, 5], [6, 7, 8, 9, 10]])\n",
    "print(arr)\n",
    "print(arr[1, 1:4])\n",
    "#row level slicing\n",
    "#coloum level slicing.."
   ]
  },
  {
   "cell_type": "code",
   "execution_count": 30,
   "id": "486fa1ec",
   "metadata": {},
   "outputs": [
    {
     "name": "stdout",
     "output_type": "stream",
     "text": [
      "[[ 1  2  3  4  5]\n",
      " [ 6  7  8  9 10]\n",
      " [11 12 13 14 15]]\n",
      "[[ 2  3  4]\n",
      " [ 7  8  9]\n",
      " [12 13 14]]\n"
     ]
    }
   ],
   "source": [
    "import numpy as np\n",
    "\n",
    "arr = np.array([[1, 2, 3, 4, 5], [6, 7, 8, 9, 10], [11,12,13,14,15]])\n",
    "print(arr)\n",
    "print(arr[0:3, 1:4]) # row level slicing & column level slicing\n"
   ]
  },
  {
   "cell_type": "code",
   "execution_count": null,
   "id": "a9eec268",
   "metadata": {},
   "outputs": [],
   "source": []
  }
 ],
 "metadata": {
  "kernelspec": {
   "display_name": "Python 3 (ipykernel)",
   "language": "python",
   "name": "python3"
  },
  "language_info": {
   "codemirror_mode": {
    "name": "ipython",
    "version": 3
   },
   "file_extension": ".py",
   "mimetype": "text/x-python",
   "name": "python",
   "nbconvert_exporter": "python",
   "pygments_lexer": "ipython3",
   "version": "3.8.3"
  }
 },
 "nbformat": 4,
 "nbformat_minor": 5
}
